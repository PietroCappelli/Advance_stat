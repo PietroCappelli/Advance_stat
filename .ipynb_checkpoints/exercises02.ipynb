{
 "cells": [
  {
   "cell_type": "markdown",
   "metadata": {},
   "source": [
    "## ES 1"
   ]
  },
  {
   "cell_type": "code",
   "execution_count": 3,
   "metadata": {
    "vscode": {
     "languageId": "r"
    }
   },
   "outputs": [
    {
     "data": {
      "text/html": [
       "15.959"
      ],
      "text/latex": [
       "15.959"
      ],
      "text/markdown": [
       "15.959"
      ],
      "text/plain": [
       "[1] 15.959"
      ]
     },
     "metadata": {},
     "output_type": "display_data"
    },
    {
     "data": {
      "text/html": [
       "15.9622"
      ],
      "text/latex": [
       "15.9622"
      ],
      "text/markdown": [
       "15.9622"
      ],
      "text/plain": [
       "[1] 15.9622"
      ]
     },
     "metadata": {},
     "output_type": "display_data"
    }
   ],
   "source": [
    "p1 <- c(0.15, 0.21, 0.35, 0.15, 0.14)\n",
    "p2 <- c(0.14, 0.05, 0.64, 0.08, 0.09)\n",
    "x <- c(15.58, 15.9, 16, 16.1, 16.2)\n",
    "\n",
    "df <- data.frame(p1,p2,x )\n",
    "\n",
    "Exp_val_p1 <- sum(p1*x)\n",
    "Exp_val_p1\n",
    "\n",
    "Exp_val_p2 <- sum(p2*x)\n",
    "Exp_val_p2\n",
    "\n",
    "var_p1 <- sum((p1*x)^2) - Exp_val_p1^2\n",
    "var_p2 <- sum((p2*x)^2) - Exp_val_p1^2\n",
    "\n"
   ]
  },
  {
   "cell_type": "markdown",
   "metadata": {},
   "source": [
    "## es 2"
   ]
  },
  {
   "cell_type": "code",
   "execution_count": 4,
   "metadata": {
    "vscode": {
     "languageId": "r"
    }
   },
   "outputs": [
    {
     "data": {
      "image/png": "[encoded data removed]",
      "text/plain": [
       "Plot with title “Histogram of people”"
      ]
     },
     "metadata": {
      "image/png": {
       "height": 420,
       "width": 420
      }
     },
     "output_type": "display_data"
    },
    {
     "data": {
      "image/png": "[encoded data removed]",
      "text/plain": [
       "plot without title"
      ]
     },
     "metadata": {
      "image/png": {
       "height": 420,
       "width": 420
      }
     },
     "output_type": "display_data"
    }
   ],
   "source": [
    "rate <- 1/30\n",
    "\n",
    "people <- rexp(50, rate)\n",
    "hist(people, breaks = )\n",
    "\n",
    "t <- seq(0,120,1)\n",
    "p <- dexp(t, rate)\n",
    "barplot(p, names = t)"
   ]
  },
  {
   "cell_type": "code",
   "execution_count": 22,
   "metadata": {
    "vscode": {
     "languageId": "r"
    }
   },
   "outputs": [
    {
     "data": {
      "text/html": [
       "0.288219414198143"
      ],
      "text/latex": [
       "0.288219414198143"
      ],
      "text/markdown": [
       "0.288219414198143"
      ],
      "text/plain": [
       "[1] 0.2882194"
      ]
     },
     "metadata": {},
     "output_type": "display_data"
    },
    {
     "name": "stdout",
     "output_type": "stream",
     "text": [
      "The expectation value form definition = 30 \n",
      "The mean value fo simulation = 30.25547 \n",
      "The expected value from pdf = 29.99722 \n",
      "The probability of wating more than 1 hour is =  0.1208441"
     ]
    },
    {
     "data": {
      "text/html": [
       "0.0333333333333333"
      ],
      "text/latex": [
       "0.0333333333333333"
      ],
      "text/markdown": [
       "0.0333333333333333"
      ],
      "text/plain": [
       "[1] 0.03333333"
      ]
     },
     "metadata": {},
     "output_type": "display_data"
    }
   ],
   "source": [
    "# P(X<10 min) \n",
    "sum(p[1:10])\n",
    "E <- 1/rate\n",
    "var <- 1/(rate^2)\n",
    "\n",
    "cat(\"The expectation value form definition =\",E,\"\\n\")\n",
    "# var\n",
    "cat(\"The mean value fo simulation =\",mean(people),\"\\n\")\n",
    "\n",
    "#expected value from the pdf --> integral of the pdf between 0,1\n",
    "\n",
    "# e_pdf\n",
    "\n",
    "pdf <- function(x,r) {\n",
    "    return (r * exp(-r*x))\n",
    "}\n",
    "\n",
    "x <- 1:1000\n",
    "e_pdf <- sum(x*pdf(x, rate))\n",
    "\n",
    "cat(\"The expected value from pdf =\",e_pdf,\"\\n\")\n",
    "\n",
    "cat(\"The probability of wating more than 1 hour is = \",(1-sum(p[1:60])))\n",
    "\n"
   ]
  },
  {
   "cell_type": "markdown",
   "metadata": {},
   "source": [
    "## es3"
   ]
  },
  {
   "cell_type": "code",
   "execution_count": 41,
   "metadata": {
    "vscode": {
     "languageId": "r"
    }
   },
   "outputs": [
    {
     "data": {
      "text/html": [
       "0.114092693118354"
      ],
      "text/latex": [
       "0.114092693118354"
      ],
      "text/markdown": [
       "0.114092693118354"
      ],
      "text/plain": [
       "[1] 0.1140927"
      ]
     },
     "metadata": {},
     "output_type": "display_data"
    }
   ],
   "source": [
    "l <- 1/3\n",
    "pag <- seq(1,10,1) \n",
    "N <- function(n, t, l){\n",
    "    P <- ( ((l*t)^n) * exp(-l*t)) / factorial(n)\n",
    "    return(P)\n",
    "}\n",
    "#probabillity of having 2 errors after 2 pages\n",
    "N(2, 2, l)"
   ]
  },
  {
   "cell_type": "code",
   "execution_count": 45,
   "metadata": {
    "vscode": {
     "languageId": "r"
    }
   },
   "outputs": [
    {
     "data": {
      "text/html": [
       "0.238843770191263"
      ],
      "text/latex": [
       "0.238843770191263"
      ],
      "text/markdown": [
       "0.238843770191263"
      ],
      "text/plain": [
       "[1] 0.2388438"
      ]
     },
     "metadata": {},
     "output_type": "display_data"
    }
   ],
   "source": [
    "dpois(1,l)\n"
   ]
  },
  {
   "cell_type": "markdown",
   "metadata": {},
   "source": [
    "## es4"
   ]
  },
  {
   "cell_type": "code",
   "execution_count": 55,
   "metadata": {
    "vscode": {
     "languageId": "r"
    }
   },
   "outputs": [
    {
     "data": {
      "text/html": [
       "0.356437976331673"
      ],
      "text/latex": [
       "0.356437976331673"
      ],
      "text/markdown": [
       "0.356437976331673"
      ],
      "text/plain": [
       "[1] 0.356438"
      ]
     },
     "metadata": {},
     "output_type": "display_data"
    }
   ],
   "source": [
    "#geometric distribution(?) or Poisson\n",
    "#ci sono 4 assi in tutto il mazzo quindi 4/52\n",
    "#calcolare la prob che c'è un evento dopo almeno 10 tentativi\n",
    "#P(x<10)\n",
    "\n",
    "p_i <- 1/13\n",
    "\n",
    "N(1,10,p_i)\n",
    "\n"
   ]
  },
  {
   "cell_type": "code",
   "execution_count": null,
   "metadata": {
    "vscode": {
     "languageId": "r"
    }
   },
   "outputs": [],
   "source": []
  },
  {
   "cell_type": "markdown",
   "metadata": {},
   "source": [
    "## es5"
   ]
  },
  {
   "cell_type": "code",
   "execution_count": null,
   "metadata": {
    "vscode": {
     "languageId": "r"
    }
   },
   "outputs": [],
   "source": []
  }
 ],
 "metadata": {
  "kernelspec": {
   "display_name": "R",
   "language": "R",
   "name": "ir"
  },
  "language_info": {
   "codemirror_mode": "r",
   "file_extension": ".r",
   "mimetype": "text/x-r-source",
   "name": "R",
   "pygments_lexer": "r",
   "version": "4.1.3"
  },
  "orig_nbformat": 4
 },
 "nbformat": 4,
 "nbformat_minor": 2
}
